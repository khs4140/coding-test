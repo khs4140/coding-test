{
 "cells": [
  {
   "cell_type": "markdown",
   "id": "6293e772",
   "metadata": {},
   "source": [
    "# Hash table (해쉬 테이블)\n",
    "\n",
    "    - 검색을 자주 할 경우 유용한 자료구조\n",
    "    - 저장, 삭제, 읽기가 빈번한 경우 유용한 자료구조\n",
    "    \n",
    "    - 장점\n",
    "        - 데이터의 저장 / 읽기 속도 빠름\n",
    "        - 해쉬는 키에 대한 중복된 데이터가 있는지 확인 이 쉬움\n",
    "    \n",
    "    - 단점\n",
    "        - 일반적으로 저장공간이 많이 필요\n",
    "        - 여러 키에 해당하는 주소가 동일할 경우 충돌을 해결하기 위한 별도의 자료구조가 필요함 (hash collision)\n",
    "        \n",
    "    - 파이썬 Dict와 유사 해쉬테이블도 key : value 구조\n",
    "    - key를 통해 저장된 데이터를 빠르게 출력\n",
    "    - 보통 array(배열)로 해쉬테이블의 사이즈를 지정 후 사용 = 공간과 탐색 시간을 맞바꿈\n",
    "   "
   ]
  },
  {
   "cell_type": "markdown",
   "id": "0517e2d1",
   "metadata": {},
   "source": [
    "## 해쉬 구조 용어\n",
    "\n",
    "    - 해쉬(hash) : 임의의 값을 고정 길이로 변환하는 것\n",
    "    - 해쉬 테이블(hash table) : 키 값의 연산에 의해 직접 접근이 가능한 데이터 구조\n",
    "    - 해싱 함수(hashing function) : key에 대해 산술 연산을 이용해 데이터 위치를 찾도록 하는 함수\n",
    "    - 해쉬 값(hash value) / 해쉬 주소(hash address)\n",
    "     : key를 해싱 함수로 연산해서, 해쉬 값을 알아내고, 이를 기반으로 해쉬 테입르에서 key에 대한 데이터 위치를 일관성 있게 찾을 수 있는 값\n",
    "    - 슬롯(slot) / buckets : 한 개의 데이터를 저장할 수 있는 공간\n",
    "    - 저장할 데이터에 대해 key를 추출할 수 있는 별도의 함수가 존재할 수 없음"
   ]
  },
  {
   "cell_type": "markdown",
   "id": "959e8f4e",
   "metadata": {},
   "source": [
    "## hash table 구현"
   ]
  },
  {
   "cell_type": "code",
   "execution_count": 1,
   "id": "5f370d05",
   "metadata": {
    "ExecuteTime": {
     "end_time": "2022-03-10T16:08:58.796034Z",
     "start_time": "2022-03-10T16:08:58.786028Z"
    }
   },
   "outputs": [
    {
     "data": {
      "text/plain": [
       "[0, 0, 0, 0, 0, 0, 0, 0, 0, 0]"
      ]
     },
     "execution_count": 1,
     "metadata": {},
     "output_type": "execute_result"
    }
   ],
   "source": [
    "hashtable = list([0 for i in range(10)])\n",
    "\n",
    "hashtable"
   ]
  },
  {
   "cell_type": "code",
   "execution_count": 2,
   "id": "2ac06c2b",
   "metadata": {
    "ExecuteTime": {
     "end_time": "2022-03-10T16:08:58.800568Z",
     "start_time": "2022-03-10T16:08:58.798292Z"
    }
   },
   "outputs": [],
   "source": [
    "def hash_function(key):\n",
    "    return key % 10"
   ]
  },
  {
   "cell_type": "code",
   "execution_count": 3,
   "id": "b808cb49",
   "metadata": {
    "ExecuteTime": {
     "end_time": "2022-03-10T16:08:58.805695Z",
     "start_time": "2022-03-10T16:08:58.802205Z"
    }
   },
   "outputs": [
    {
     "name": "stdout",
     "output_type": "stream",
     "text": [
      "74 83 84\n",
      "74 4\n",
      "74 84\n"
     ]
    }
   ],
   "source": [
    "data1 = 'John'\n",
    "data2 = 'Smith'\n",
    "data3 = 'Trump'\n",
    "\n",
    "print(ord(data1[0]), ord(data2[0]), ord(data3[0]))\n",
    "print(ord(data1[0]), hash_function(ord(data1[0])))\n",
    "print(ord(data1[0]), ord(data3[0]))"
   ]
  },
  {
   "cell_type": "code",
   "execution_count": 4,
   "id": "eca60deb",
   "metadata": {
    "ExecuteTime": {
     "end_time": "2022-03-10T16:08:58.811460Z",
     "start_time": "2022-03-10T16:08:58.807445Z"
    }
   },
   "outputs": [
    {
     "data": {
      "text/plain": [
       "4"
      ]
     },
     "execution_count": 4,
     "metadata": {},
     "output_type": "execute_result"
    }
   ],
   "source": [
    "ord(data1[0]) % 10"
   ]
  },
  {
   "cell_type": "code",
   "execution_count": 5,
   "id": "49bcbf7d",
   "metadata": {
    "ExecuteTime": {
     "end_time": "2022-03-10T16:08:58.816967Z",
     "start_time": "2022-03-10T16:08:58.814234Z"
    }
   },
   "outputs": [],
   "source": [
    "def storage_data(data, value):\n",
    "    key = ord(data[0])\n",
    "    hash_address = hash_function(key)\n",
    "    hashtable[hash_address] = value\n",
    "    \n",
    "# 현재 Hash 함수 문제점 있음\n",
    "# 중복된 key를 너무 많이 갖을 수 있어.."
   ]
  },
  {
   "cell_type": "code",
   "execution_count": 6,
   "id": "efbaa4ad",
   "metadata": {
    "ExecuteTime": {
     "end_time": "2022-03-10T16:08:58.822600Z",
     "start_time": "2022-03-10T16:08:58.818137Z"
    }
   },
   "outputs": [
    {
     "data": {
      "text/plain": [
       "[0, 0, 0, '01022222', '10232', 0, 0, 0, 0, 0]"
      ]
     },
     "execution_count": 6,
     "metadata": {},
     "output_type": "execute_result"
    }
   ],
   "source": [
    "storage_data('John', '010111111')\n",
    "storage_data('Smith', '01022222')\n",
    "storage_data('Trump', '10232')\n",
    "\n",
    "hashtable"
   ]
  },
  {
   "cell_type": "code",
   "execution_count": 7,
   "id": "b67e54d4",
   "metadata": {
    "ExecuteTime": {
     "end_time": "2022-03-10T16:08:58.828637Z",
     "start_time": "2022-03-10T16:08:58.826585Z"
    }
   },
   "outputs": [],
   "source": [
    "def get_value(data):\n",
    "    key = ord(data[0])\n",
    "    hash_address = hash_function(key)\n",
    "    return hashtable[hash_address]"
   ]
  },
  {
   "cell_type": "code",
   "execution_count": 8,
   "id": "cd260a19",
   "metadata": {
    "ExecuteTime": {
     "end_time": "2022-03-10T16:08:58.834781Z",
     "start_time": "2022-03-10T16:08:58.831492Z"
    }
   },
   "outputs": [
    {
     "data": {
      "text/plain": [
       "'10232'"
      ]
     },
     "execution_count": 8,
     "metadata": {},
     "output_type": "execute_result"
    }
   ],
   "source": [
    "get_value('Trump')"
   ]
  },
  {
   "cell_type": "markdown",
   "id": "78d618b2",
   "metadata": {},
   "source": [
    "## 리스트 변수를 활용해서 해쉬 테이블 구현\n",
    "\n",
    "    - 1. hash_function = key % 8\n",
    "    - 2. hash key는 hash() 함수 사용"
   ]
  },
  {
   "cell_type": "code",
   "execution_count": 9,
   "id": "6c54a0da",
   "metadata": {
    "ExecuteTime": {
     "end_time": "2022-03-10T16:08:58.839771Z",
     "start_time": "2022-03-10T16:08:58.836411Z"
    }
   },
   "outputs": [],
   "source": [
    "hashtable = [0 for i in range(8)]\n",
    "\n",
    "# key 생성\n",
    "def get_key(data):\n",
    "    return hash(data)\n",
    "\n",
    "\n",
    "# hash function을 통해 값 변환\n",
    "\n",
    "def hash_function(key):\n",
    "    return key % 8\n",
    "\n",
    "\n",
    "# 데이터 저장\n",
    "def hash_save(data, value):\n",
    "    key = get_key(data)\n",
    "    hash_address = hash_function(key)\n",
    "    \n",
    "    hashtable[hash_address] = value\n",
    "    \n",
    "\n",
    "\n",
    "\n",
    "# 데이터 읽기\n",
    "def hash_read(data):\n",
    "    key = get_key(data)\n",
    "    hash_address = hash_function(key)\n",
    "    return hashtable[hash_address]"
   ]
  },
  {
   "cell_type": "code",
   "execution_count": 10,
   "id": "afa87f35",
   "metadata": {
    "ExecuteTime": {
     "end_time": "2022-03-10T16:08:58.844268Z",
     "start_time": "2022-03-10T16:08:58.841528Z"
    }
   },
   "outputs": [
    {
     "data": {
      "text/plain": [
       "[0, 0, 0, 0, 0, '5678', 0, 0]"
      ]
     },
     "execution_count": 10,
     "metadata": {},
     "output_type": "execute_result"
    }
   ],
   "source": [
    "hash_save('dori', '1234')\n",
    "hash_save('ddoni', '5678')\n",
    "\n",
    "\n",
    "hashtable"
   ]
  },
  {
   "cell_type": "code",
   "execution_count": 11,
   "id": "afa471dc",
   "metadata": {
    "ExecuteTime": {
     "end_time": "2022-03-10T16:08:58.848711Z",
     "start_time": "2022-03-10T16:08:58.845890Z"
    }
   },
   "outputs": [
    {
     "data": {
      "text/plain": [
       "'5678'"
      ]
     },
     "execution_count": 11,
     "metadata": {},
     "output_type": "execute_result"
    }
   ],
   "source": [
    "hash_read('ddoni')"
   ]
  },
  {
   "cell_type": "markdown",
   "id": "1a1cc107",
   "metadata": {},
   "source": [
    "# 해쉬 테이블 충돌(collision)\n",
    "\n",
    "    - 위에서 언급한 문제점..\n",
    "    \n",
    "    - 해결방법\n",
    "        - Chaining\n",
    "            : 개방 해쉬 또는 Open Hashing중 하나, 해쉬 테이블 저장공간 외의 공간을 활용\n",
    "            : 충돌이 일어나면 링크드인 리스트를 활용하여 데이터를 추가로 연결시켜 저장\n",
    "            \n",
    "        - Linear Probing\n",
    "            : 폐쇄 해슁 또는 Close Hashing 중 하나, 해쉬 테이블 저장공간에서 충돌 문제 해결\n",
    "            : 충돌이 일어나면 hash address의 다음 slot부터 맨 처음 나오는 빈공간에 저장하는 기법\n",
    "            : 저장공간 활용도를 높이기 위한 기법\n"
   ]
  },
  {
   "cell_type": "markdown",
   "id": "15709179",
   "metadata": {},
   "source": [
    "## Chaining 기법으로 충돌 해결"
   ]
  },
  {
   "cell_type": "code",
   "execution_count": 12,
   "id": "606d84eb",
   "metadata": {
    "ExecuteTime": {
     "end_time": "2022-03-10T16:08:58.855597Z",
     "start_time": "2022-03-10T16:08:58.851550Z"
    }
   },
   "outputs": [],
   "source": [
    "hashtable = [0 for i in range(8)]\n",
    "    \n",
    "# data를 통해 key 생성\n",
    "\n",
    "def get_key(data):\n",
    "    return hash(data)\n",
    "\n",
    "\n",
    "# hash function\n",
    "\n",
    "def hash_function(key):\n",
    "    return key % 8\n",
    "\n",
    "\n",
    "# 데이터 저장\n",
    "\n",
    "def hash_save(data, value):\n",
    "    key = get_key(data)\n",
    "    hash_address = hash_function(key)\n",
    "    \n",
    "    \n",
    "    if hashtable[hash_address] != 0:\n",
    "        for i in range(len(hashtable[hash_address])):\n",
    "            if hashtable[hash_address][i][0] == key: # key 값이 같을 때 value 수정\n",
    "                \n",
    "                hashtable[hash_address][i][1] = value\n",
    "                return\n",
    "            \n",
    "        hashtable[hash_address].append([key, value])        \n",
    "    \n",
    "    else:\n",
    "        hashtable[hash_address] = [[key, value]]\n",
    "        \n",
    "\n",
    "def hash_read(data):\n",
    "    key = get_key(data)\n",
    "    hash_address = hash_function(key)\n",
    "\n",
    "    if hashtable[hash_address] != 0:\n",
    "        for i in range(len(hashtable[hash_address])):\n",
    "            if hashtable[hash_address][i][0] == key:\n",
    "                return hashtable[hash_address][i][1]\n",
    "        return None\n",
    "    else:\n",
    "        return None\n"
   ]
  },
  {
   "cell_type": "code",
   "execution_count": 13,
   "id": "086c2eb8",
   "metadata": {
    "ExecuteTime": {
     "end_time": "2022-03-10T16:08:58.858377Z",
     "start_time": "2022-03-10T16:08:58.856811Z"
    }
   },
   "outputs": [],
   "source": [
    "hash_save('dori', '123')"
   ]
  },
  {
   "cell_type": "code",
   "execution_count": 15,
   "id": "7ade012f",
   "metadata": {
    "ExecuteTime": {
     "end_time": "2022-03-10T16:09:36.562164Z",
     "start_time": "2022-03-10T16:09:36.557021Z"
    }
   },
   "outputs": [
    {
     "data": {
      "text/plain": [
       "[0, 0, 0, 0, 0, [[4917846043560210989, '123']], 0, 0]"
      ]
     },
     "execution_count": 15,
     "metadata": {},
     "output_type": "execute_result"
    }
   ],
   "source": [
    "hashtable"
   ]
  },
  {
   "cell_type": "code",
   "execution_count": 21,
   "id": "b0a195b1",
   "metadata": {
    "ExecuteTime": {
     "end_time": "2022-03-10T16:09:52.600843Z",
     "start_time": "2022-03-10T16:09:52.598035Z"
    }
   },
   "outputs": [],
   "source": [
    "hash_save('dd342addddd', '123123123')"
   ]
  },
  {
   "cell_type": "code",
   "execution_count": 22,
   "id": "fd30b832",
   "metadata": {
    "ExecuteTime": {
     "end_time": "2022-03-10T16:09:52.883669Z",
     "start_time": "2022-03-10T16:09:52.878222Z"
    }
   },
   "outputs": [],
   "source": [
    "hash_save(1, 55)\n"
   ]
  },
  {
   "cell_type": "code",
   "execution_count": 23,
   "id": "cb570f6a",
   "metadata": {
    "ExecuteTime": {
     "end_time": "2022-03-10T16:09:53.694719Z",
     "start_time": "2022-03-10T16:09:53.689927Z"
    }
   },
   "outputs": [
    {
     "data": {
      "text/plain": [
       "[0,\n",
       " [[1, 55]],\n",
       " 0,\n",
       " [[5845465570071511491, '123123123']],\n",
       " 0,\n",
       " [[4917846043560210989, '123']],\n",
       " 0,\n",
       " 0]"
      ]
     },
     "execution_count": 23,
     "metadata": {},
     "output_type": "execute_result"
    }
   ],
   "source": [
    "hashtable"
   ]
  },
  {
   "cell_type": "code",
   "execution_count": 24,
   "id": "a3989580",
   "metadata": {
    "ExecuteTime": {
     "end_time": "2022-03-10T16:09:55.156596Z",
     "start_time": "2022-03-10T16:09:55.153624Z"
    }
   },
   "outputs": [],
   "source": [
    "hash_save('Data', 999)"
   ]
  },
  {
   "cell_type": "code",
   "execution_count": 25,
   "id": "9377cf3e",
   "metadata": {
    "ExecuteTime": {
     "end_time": "2022-03-10T16:09:56.831628Z",
     "start_time": "2022-03-10T16:09:56.828581Z"
    }
   },
   "outputs": [],
   "source": [
    "hash_save('aerfd2', 84281902)"
   ]
  },
  {
   "cell_type": "code",
   "execution_count": 26,
   "id": "cd67d8c4",
   "metadata": {
    "ExecuteTime": {
     "end_time": "2022-03-10T16:09:57.441756Z",
     "start_time": "2022-03-10T16:09:57.436779Z"
    }
   },
   "outputs": [
    {
     "data": {
      "text/plain": [
       "[[[-5562284537506587856, 84281902]],\n",
       " [[1, 55]],\n",
       " [[-1395753065316955230, 999]],\n",
       " [[5845465570071511491, '123123123']],\n",
       " 0,\n",
       " [[4917846043560210989, '123']],\n",
       " 0,\n",
       " 0]"
      ]
     },
     "execution_count": 26,
     "metadata": {},
     "output_type": "execute_result"
    }
   ],
   "source": [
    "hashtable"
   ]
  },
  {
   "cell_type": "code",
   "execution_count": 42,
   "id": "2b085de3",
   "metadata": {
    "ExecuteTime": {
     "end_time": "2022-03-10T16:11:26.511904Z",
     "start_time": "2022-03-10T16:11:26.508124Z"
    },
    "scrolled": true
   },
   "outputs": [
    {
     "name": "stdout",
     "output_type": "stream",
     "text": [
      "1\n"
     ]
    }
   ],
   "source": [
    "print(hash_function(get_key('23d5zx')))\n",
    "\n",
    "hash_save('23d5zx', 'rkskek')"
   ]
  },
  {
   "cell_type": "code",
   "execution_count": 43,
   "id": "49fc2401",
   "metadata": {
    "ExecuteTime": {
     "end_time": "2022-03-10T16:11:28.369198Z",
     "start_time": "2022-03-10T16:11:28.363371Z"
    }
   },
   "outputs": [
    {
     "data": {
      "text/plain": [
       "[[[-5562284537506587856, 84281902]],\n",
       " [[1, 55], [-1942543371887000967, 'rkskek']],\n",
       " [[-1395753065316955230, 999]],\n",
       " [[5845465570071511491, '123123123']],\n",
       " 0,\n",
       " [[4917846043560210989, '123']],\n",
       " 0,\n",
       " 0]"
      ]
     },
     "execution_count": 43,
     "metadata": {},
     "output_type": "execute_result"
    }
   ],
   "source": [
    "hashtable"
   ]
  },
  {
   "cell_type": "code",
   "execution_count": 44,
   "id": "c1ff00a9",
   "metadata": {
    "ExecuteTime": {
     "end_time": "2022-03-10T16:11:37.717036Z",
     "start_time": "2022-03-10T16:11:37.712327Z"
    }
   },
   "outputs": [
    {
     "data": {
      "text/plain": [
       "'rkskek'"
      ]
     },
     "execution_count": 44,
     "metadata": {},
     "output_type": "execute_result"
    }
   ],
   "source": [
    "hash_read('23d5zx')"
   ]
  },
  {
   "cell_type": "markdown",
   "id": "ed3ec91c",
   "metadata": {},
   "source": [
    "## LinearProbing"
   ]
  },
  {
   "cell_type": "code",
   "execution_count": 62,
   "id": "08795d76",
   "metadata": {
    "ExecuteTime": {
     "end_time": "2022-03-10T16:49:57.298930Z",
     "start_time": "2022-03-10T16:49:57.286322Z"
    }
   },
   "outputs": [],
   "source": [
    "hashtable = [0 for i in range(8)]\n",
    "\n",
    "def get_key(data):\n",
    "    return hash(data)\n",
    "\n",
    "\n",
    "def hash_function(key):\n",
    "    return key % 8\n",
    "\n",
    "\n",
    "\n",
    "def hash_save(data, value):\n",
    "    key = get_key(data)\n",
    "    hash_address = hash_function(key)\n",
    "    \n",
    "    \n",
    "    if hashtable[hash_address] != 0:\n",
    "        for i in range(hash_address, len(hashtable)):\n",
    "            if hashtable[i] == 0:\n",
    "                hashtable[i] = [key, value]\n",
    "                \n",
    "                return\n",
    "                \n",
    "            elif hashtable[i][0] == key:\n",
    "                hashtable[i][1] = value\n",
    "                return\n",
    "    else:\n",
    "        hashtable[hash_address] = [key, value]\n",
    "\n",
    "        \n",
    "def hash_read(data):\n",
    "    key = get_key(data)\n",
    "    hash_address = hash_function(key)\n",
    "\n",
    "    if hashtable[hash_address] != 0:\n",
    "        for index in ragne(hash_address, len(hashtable)):\n",
    "            if hashtable[index] == 0:\n",
    "                return None\n",
    "            elif hashtable[index][0] == key:\n",
    "                return hash_table[index][1]\n",
    "    else:\n",
    "        return None"
   ]
  },
  {
   "cell_type": "code",
   "execution_count": 63,
   "id": "52e441cc",
   "metadata": {
    "ExecuteTime": {
     "end_time": "2022-03-10T16:49:57.510340Z",
     "start_time": "2022-03-10T16:49:57.506617Z"
    }
   },
   "outputs": [],
   "source": [
    "hash_save('aerfd2', 84281902)"
   ]
  },
  {
   "cell_type": "code",
   "execution_count": 64,
   "id": "4eab9225",
   "metadata": {
    "ExecuteTime": {
     "end_time": "2022-03-10T16:49:57.736562Z",
     "start_time": "2022-03-10T16:49:57.729524Z"
    }
   },
   "outputs": [
    {
     "data": {
      "text/plain": [
       "[[-5562284537506587856, 84281902], 0, 0, 0, 0, 0, 0, 0]"
      ]
     },
     "execution_count": 64,
     "metadata": {},
     "output_type": "execute_result"
    }
   ],
   "source": [
    "hashtable"
   ]
  },
  {
   "cell_type": "code",
   "execution_count": 65,
   "id": "c6807921",
   "metadata": {
    "ExecuteTime": {
     "end_time": "2022-03-10T16:49:58.008137Z",
     "start_time": "2022-03-10T16:49:58.001871Z"
    }
   },
   "outputs": [
    {
     "data": {
      "text/plain": [
       "1"
      ]
     },
     "execution_count": 65,
     "metadata": {},
     "output_type": "execute_result"
    }
   ],
   "source": [
    "hash_function(get_key('23d5zx'))"
   ]
  },
  {
   "cell_type": "code",
   "execution_count": 66,
   "id": "8804908e",
   "metadata": {
    "ExecuteTime": {
     "end_time": "2022-03-10T16:49:58.389300Z",
     "start_time": "2022-03-10T16:49:58.383575Z"
    }
   },
   "outputs": [],
   "source": [
    "hash_save('23d5zx', 1)\n",
    "hash_save(1, 55)\n"
   ]
  },
  {
   "cell_type": "code",
   "execution_count": 70,
   "id": "2d45067d",
   "metadata": {
    "ExecuteTime": {
     "end_time": "2022-03-10T16:50:18.641683Z",
     "start_time": "2022-03-10T16:50:18.636887Z"
    }
   },
   "outputs": [
    {
     "data": {
      "text/plain": [
       "[[-5562284537506587856, 84281902],\n",
       " [-1942543371887000967, 1],\n",
       " [1, 55],\n",
       " 0,\n",
       " 0,\n",
       " 0,\n",
       " 0,\n",
       " 0]"
      ]
     },
     "execution_count": 70,
     "metadata": {},
     "output_type": "execute_result"
    }
   ],
   "source": [
    "hashtable"
   ]
  },
  {
   "cell_type": "code",
   "execution_count": null,
   "id": "a20d170f",
   "metadata": {},
   "outputs": [],
   "source": []
  }
 ],
 "metadata": {
  "hide_input": false,
  "kernelspec": {
   "display_name": "Python 3",
   "language": "python",
   "name": "python3"
  },
  "language_info": {
   "codemirror_mode": {
    "name": "ipython",
    "version": 3
   },
   "file_extension": ".py",
   "mimetype": "text/x-python",
   "name": "python",
   "nbconvert_exporter": "python",
   "pygments_lexer": "ipython3",
   "version": "3.8.8"
  },
  "toc": {
   "base_numbering": 1,
   "nav_menu": {},
   "number_sections": true,
   "sideBar": true,
   "skip_h1_title": false,
   "title_cell": "Table of Contents",
   "title_sidebar": "Contents",
   "toc_cell": false,
   "toc_position": {},
   "toc_section_display": true,
   "toc_window_display": false
  },
  "varInspector": {
   "cols": {
    "lenName": 16,
    "lenType": 16,
    "lenVar": 40
   },
   "kernels_config": {
    "python": {
     "delete_cmd_postfix": "",
     "delete_cmd_prefix": "del ",
     "library": "var_list.py",
     "varRefreshCmd": "print(var_dic_list())"
    },
    "r": {
     "delete_cmd_postfix": ") ",
     "delete_cmd_prefix": "rm(",
     "library": "var_list.r",
     "varRefreshCmd": "cat(var_dic_list()) "
    }
   },
   "types_to_exclude": [
    "module",
    "function",
    "builtin_function_or_method",
    "instance",
    "_Feature"
   ],
   "window_display": false
  }
 },
 "nbformat": 4,
 "nbformat_minor": 5
}
