{
 "cells": [
  {
   "cell_type": "markdown",
   "id": "7a2276cf",
   "metadata": {},
   "source": [
    "# 큐(Queue)"
   ]
  },
  {
   "cell_type": "markdown",
   "id": "b46d0cca",
   "metadata": {},
   "source": [
    "## Queue\n",
    "    - 일반적인 큐\n",
    "    - FIFO (First-in, First-Out)\n",
    "    - 가장 먼저 넣은 데이터를 가장 먼저 끄내는 자료구조"
   ]
  },
  {
   "cell_type": "code",
   "execution_count": 1,
   "id": "b1094b50",
   "metadata": {
    "ExecuteTime": {
     "end_time": "2022-03-07T13:27:04.924447Z",
     "start_time": "2022-03-07T13:27:04.913475Z"
    }
   },
   "outputs": [],
   "source": [
    "import queue\n",
    "\n",
    "queue1 = queue.Queue()\n",
    "\n",
    "queue1.put(111) # 데이터 입력\n",
    "queue1.put(222) \n",
    "queue1.put(333)"
   ]
  },
  {
   "cell_type": "code",
   "execution_count": 2,
   "id": "9702623a",
   "metadata": {
    "ExecuteTime": {
     "end_time": "2022-03-07T13:27:05.730832Z",
     "start_time": "2022-03-07T13:27:05.719860Z"
    }
   },
   "outputs": [
    {
     "data": {
      "text/plain": [
       "3"
      ]
     },
     "execution_count": 2,
     "metadata": {},
     "output_type": "execute_result"
    }
   ],
   "source": [
    "queue1.qsize()"
   ]
  },
  {
   "cell_type": "code",
   "execution_count": 3,
   "id": "e818ca06",
   "metadata": {
    "ExecuteTime": {
     "end_time": "2022-03-07T13:27:05.951735Z",
     "start_time": "2022-03-07T13:27:05.936774Z"
    }
   },
   "outputs": [
    {
     "data": {
      "text/plain": [
       "111"
      ]
     },
     "execution_count": 3,
     "metadata": {},
     "output_type": "execute_result"
    }
   ],
   "source": [
    "queue1.get()"
   ]
  },
  {
   "cell_type": "code",
   "execution_count": 4,
   "id": "9c22189e",
   "metadata": {
    "ExecuteTime": {
     "end_time": "2022-03-07T13:27:06.123615Z",
     "start_time": "2022-03-07T13:27:06.109654Z"
    }
   },
   "outputs": [
    {
     "data": {
      "text/plain": [
       "222"
      ]
     },
     "execution_count": 4,
     "metadata": {},
     "output_type": "execute_result"
    }
   ],
   "source": [
    "queue1.get()"
   ]
  },
  {
   "cell_type": "code",
   "execution_count": 5,
   "id": "261d3408",
   "metadata": {
    "ExecuteTime": {
     "end_time": "2022-03-07T13:27:06.343115Z",
     "start_time": "2022-03-07T13:27:06.338160Z"
    }
   },
   "outputs": [
    {
     "data": {
      "text/plain": [
       "333"
      ]
     },
     "execution_count": 5,
     "metadata": {},
     "output_type": "execute_result"
    }
   ],
   "source": [
    "queue1.get()"
   ]
  },
  {
   "cell_type": "markdown",
   "id": "60ae1635",
   "metadata": {},
   "source": [
    "## LifoQueue \n",
    "    - stack(스택)과 같은 Last-in, First-out (LIFO)\n",
    "    - 나중에 입력된 데이터가 먼저 출력되는 구조"
   ]
  },
  {
   "cell_type": "code",
   "execution_count": 7,
   "id": "b09c15c8",
   "metadata": {
    "ExecuteTime": {
     "end_time": "2022-03-07T13:27:37.698001Z",
     "start_time": "2022-03-07T13:27:37.685043Z"
    }
   },
   "outputs": [
    {
     "name": "stdout",
     "output_type": "stream",
     "text": [
      "3\n"
     ]
    }
   ],
   "source": [
    "lqueue = queue.LifoQueue()\n",
    "\n",
    "lqueue.put(111)\n",
    "lqueue.put(222)\n",
    "lqueue.put(333)\n",
    "\n",
    "print(lqueue.qsize())"
   ]
  },
  {
   "cell_type": "code",
   "execution_count": 8,
   "id": "1d3f02b8",
   "metadata": {
    "ExecuteTime": {
     "end_time": "2022-03-07T13:27:42.144893Z",
     "start_time": "2022-03-07T13:27:42.131929Z"
    }
   },
   "outputs": [
    {
     "data": {
      "text/plain": [
       "333"
      ]
     },
     "execution_count": 8,
     "metadata": {},
     "output_type": "execute_result"
    }
   ],
   "source": [
    "lqueue.get()"
   ]
  },
  {
   "cell_type": "code",
   "execution_count": 9,
   "id": "2692bcf4",
   "metadata": {
    "ExecuteTime": {
     "end_time": "2022-03-07T13:27:45.652414Z",
     "start_time": "2022-03-07T13:27:45.644442Z"
    }
   },
   "outputs": [
    {
     "data": {
      "text/plain": [
       "222"
      ]
     },
     "execution_count": 9,
     "metadata": {},
     "output_type": "execute_result"
    }
   ],
   "source": [
    "lqueue.get()"
   ]
  },
  {
   "cell_type": "code",
   "execution_count": 10,
   "id": "85b77811",
   "metadata": {
    "ExecuteTime": {
     "end_time": "2022-03-07T13:27:48.406042Z",
     "start_time": "2022-03-07T13:27:48.396044Z"
    }
   },
   "outputs": [
    {
     "data": {
      "text/plain": [
       "111"
      ]
     },
     "execution_count": 10,
     "metadata": {},
     "output_type": "execute_result"
    }
   ],
   "source": [
    "lqueue.get()"
   ]
  },
  {
   "cell_type": "markdown",
   "id": "ef521fee",
   "metadata": {},
   "source": [
    "## PriorityQueue\n",
    "    - 데이터마다 우선순위와 함께 tuple 형식으로 push\n",
    "    - 꺼낼 때는 우선순위가 높은 순서대로 출력"
   ]
  },
  {
   "cell_type": "code",
   "execution_count": 12,
   "id": "006d09d3",
   "metadata": {
    "ExecuteTime": {
     "end_time": "2022-03-07T13:33:53.363165Z",
     "start_time": "2022-03-07T13:33:53.356196Z"
    }
   },
   "outputs": [
    {
     "data": {
      "text/plain": [
       "4"
      ]
     },
     "execution_count": 12,
     "metadata": {},
     "output_type": "execute_result"
    }
   ],
   "source": [
    "pqueue = queue.PriorityQueue()\n",
    "\n",
    "pqueue.put((2, 'a'))  # (우선순위, 데이터)\n",
    "pqueue.put((100, 'b'))\n",
    "pqueue.put((3, 'c'))\n",
    "pqueue.put((1, 'd'))\n",
    "\n",
    "pqueue.qsize()"
   ]
  },
  {
   "cell_type": "code",
   "execution_count": 13,
   "id": "75ce7e80",
   "metadata": {
    "ExecuteTime": {
     "end_time": "2022-03-07T13:33:59.888438Z",
     "start_time": "2022-03-07T13:33:59.870487Z"
    }
   },
   "outputs": [
    {
     "data": {
      "text/plain": [
       "(1, 'd')"
      ]
     },
     "execution_count": 13,
     "metadata": {},
     "output_type": "execute_result"
    }
   ],
   "source": [
    "pqueue.get()"
   ]
  },
  {
   "cell_type": "code",
   "execution_count": 14,
   "id": "bdcb562a",
   "metadata": {
    "ExecuteTime": {
     "end_time": "2022-03-07T13:34:00.623137Z",
     "start_time": "2022-03-07T13:34:00.610180Z"
    }
   },
   "outputs": [
    {
     "data": {
      "text/plain": [
       "(2, 'a')"
      ]
     },
     "execution_count": 14,
     "metadata": {},
     "output_type": "execute_result"
    }
   ],
   "source": [
    "pqueue.get()"
   ]
  },
  {
   "cell_type": "code",
   "execution_count": 15,
   "id": "adf249e7",
   "metadata": {
    "ExecuteTime": {
     "end_time": "2022-03-07T13:34:01.362749Z",
     "start_time": "2022-03-07T13:34:01.343802Z"
    }
   },
   "outputs": [
    {
     "data": {
      "text/plain": [
       "(3, 'c')"
      ]
     },
     "execution_count": 15,
     "metadata": {},
     "output_type": "execute_result"
    }
   ],
   "source": [
    "pqueue.get()"
   ]
  },
  {
   "cell_type": "code",
   "execution_count": 16,
   "id": "3db6637d",
   "metadata": {
    "ExecuteTime": {
     "end_time": "2022-03-07T13:34:02.080809Z",
     "start_time": "2022-03-07T13:34:02.071827Z"
    }
   },
   "outputs": [
    {
     "data": {
      "text/plain": [
       "(100, 'b')"
      ]
     },
     "execution_count": 16,
     "metadata": {},
     "output_type": "execute_result"
    }
   ],
   "source": [
    "pqueue.get()"
   ]
  },
  {
   "cell_type": "code",
   "execution_count": null,
   "id": "f12c4d8a",
   "metadata": {},
   "outputs": [],
   "source": []
  }
 ],
 "metadata": {
  "hide_input": false,
  "kernelspec": {
   "display_name": "Python 3 (ipykernel)",
   "language": "python",
   "name": "python3"
  },
  "language_info": {
   "codemirror_mode": {
    "name": "ipython",
    "version": 3
   },
   "file_extension": ".py",
   "mimetype": "text/x-python",
   "name": "python",
   "nbconvert_exporter": "python",
   "pygments_lexer": "ipython3",
   "version": "3.7.3"
  },
  "toc": {
   "base_numbering": 1,
   "nav_menu": {},
   "number_sections": true,
   "sideBar": true,
   "skip_h1_title": false,
   "title_cell": "Table of Contents",
   "title_sidebar": "Contents",
   "toc_cell": false,
   "toc_position": {},
   "toc_section_display": true,
   "toc_window_display": false
  },
  "varInspector": {
   "cols": {
    "lenName": 16,
    "lenType": 16,
    "lenVar": 40
   },
   "kernels_config": {
    "python": {
     "delete_cmd_postfix": "",
     "delete_cmd_prefix": "del ",
     "library": "var_list.py",
     "varRefreshCmd": "print(var_dic_list())"
    },
    "r": {
     "delete_cmd_postfix": ") ",
     "delete_cmd_prefix": "rm(",
     "library": "var_list.r",
     "varRefreshCmd": "cat(var_dic_list()) "
    }
   },
   "types_to_exclude": [
    "module",
    "function",
    "builtin_function_or_method",
    "instance",
    "_Feature"
   ],
   "window_display": false
  }
 },
 "nbformat": 4,
 "nbformat_minor": 5
}
