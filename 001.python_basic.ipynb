{
 "cells": [
  {
   "cell_type": "markdown",
   "id": "d6308f37",
   "metadata": {},
   "source": [
    "# 자료형"
   ]
  },
  {
   "cell_type": "markdown",
   "id": "55964844",
   "metadata": {},
   "source": [
    "## 정수형"
   ]
  },
  {
   "cell_type": "code",
   "execution_count": 4,
   "id": "94cc9105",
   "metadata": {
    "ExecuteTime": {
     "end_time": "2022-03-02T10:24:56.106452Z",
     "start_time": "2022-03-02T10:24:56.086508Z"
    }
   },
   "outputs": [
    {
     "name": "stdout",
     "output_type": "stream",
     "text": [
      "값: 1000, dtype: <class 'int'>\n",
      "값: -7, dtype: <class 'int'>\n",
      "값: 0, dtype: <class 'int'>\n"
     ]
    }
   ],
   "source": [
    "a = 1000 \n",
    "print(f'값: {a}, dtype: {type(a)}')\n",
    "\n",
    "a = -7\n",
    "print(f'값: {a}, dtype: {type(a)}')\n",
    "\n",
    "a = 0\n",
    "print(f'값: {a}, dtype: {type(a)}')"
   ]
  },
  {
   "cell_type": "markdown",
   "id": "c3075126",
   "metadata": {},
   "source": [
    "## 실수형"
   ]
  },
  {
   "cell_type": "code",
   "execution_count": 7,
   "id": "45aa5eb3",
   "metadata": {
    "ExecuteTime": {
     "end_time": "2022-03-02T10:25:30.659444Z",
     "start_time": "2022-03-02T10:25:30.640527Z"
    }
   },
   "outputs": [
    {
     "name": "stdout",
     "output_type": "stream",
     "text": [
      "값: 157.93, dtype: <class 'float'>\n",
      "값: -1837.2, dtype: <class 'float'>\n",
      "값: 3.0, dtype: <class 'float'>\n",
      "값: -0.112, dtype: <class 'float'>\n"
     ]
    }
   ],
   "source": [
    "a = 157.93\n",
    "print(f'값: {a}, dtype: {type(a)}')\n",
    "\n",
    "b = -1837.2\n",
    "print(f'값: {b}, dtype: {type(b)}')\n",
    "\n",
    "c = 3.\n",
    "print(f'값: {c}, dtype: {type(c)}')\n",
    "\n",
    "d = -.112\n",
    "print(f'값: {d}, dtype: {type(d)}')"
   ]
  },
  {
   "cell_type": "code",
   "execution_count": 8,
   "id": "f5737ccd",
   "metadata": {
    "ExecuteTime": {
     "end_time": "2022-03-02T10:28:05.676936Z",
     "start_time": "2022-03-02T10:28:05.669950Z"
    }
   },
   "outputs": [
    {
     "name": "stdout",
     "output_type": "stream",
     "text": [
      "1000000000.0\n",
      "1245.0\n",
      "0.123\n"
     ]
    }
   ],
   "source": [
    "a = 1e9\n",
    "print(a)\n",
    "\n",
    "b = 12.45e2\n",
    "print(b)\n",
    "\n",
    "c = 123e-3\n",
    "print(c)"
   ]
  },
  {
   "cell_type": "code",
   "execution_count": 10,
   "id": "72fdd257",
   "metadata": {
    "ExecuteTime": {
     "end_time": "2022-03-02T10:34:21.195198Z",
     "start_time": "2022-03-02T10:34:21.189173Z"
    }
   },
   "outputs": [
    {
     "name": "stdout",
     "output_type": "stream",
     "text": [
      "0.6000000000000001\n",
      "False\n",
      " -- round --\n",
      "True\n"
     ]
    }
   ],
   "source": [
    "a = 0.2 + 0.4\n",
    "print(a)\n",
    "\n",
    "\n",
    "if a == 0.6:\n",
    "    print(True)\n",
    "else:\n",
    "    print(False)\n",
    "    \n",
    "print(' -- round --')    \n",
    "\n",
    "a = round(a, 1)\n",
    "if a == 0.6:\n",
    "    print(True)\n",
    "else:\n",
    "    print(False)"
   ]
  },
  {
   "cell_type": "markdown",
   "id": "c8a856b1",
   "metadata": {},
   "source": [
    "## 수 연산"
   ]
  },
  {
   "cell_type": "code",
   "execution_count": 13,
   "id": "9840c88d",
   "metadata": {
    "ExecuteTime": {
     "end_time": "2022-03-02T10:36:36.295788Z",
     "start_time": "2022-03-02T10:36:36.284839Z"
    }
   },
   "outputs": [
    {
     "name": "stdout",
     "output_type": "stream",
     "text": [
      "4.333333333333333\n",
      "4\n",
      "1\n",
      "39\n",
      "2197\n"
     ]
    }
   ],
   "source": [
    "a = 13\n",
    "b = 3\n",
    "\n",
    "# 나누기\n",
    "print(a / b)\n",
    "\n",
    "# 나누기 - 몫\n",
    "print(a // b)\n",
    "\n",
    "# 나누기 - 나머지\n",
    "print(a % b)\n",
    "\n",
    "# 곱\n",
    "print(a * b)\n",
    "\n",
    "# 승수\n",
    "print(a ** b)"
   ]
  },
  {
   "cell_type": "markdown",
   "id": "abdd3e30",
   "metadata": {},
   "source": [
    " ## 리스트 자료형\n",
    "     - 파이썬은 연결 리스트 \n"
   ]
  },
  {
   "cell_type": "code",
   "execution_count": 16,
   "id": "015bcb71",
   "metadata": {
    "ExecuteTime": {
     "end_time": "2022-03-02T10:38:11.824619Z",
     "start_time": "2022-03-02T10:38:11.816640Z"
    }
   },
   "outputs": [
    {
     "name": "stdout",
     "output_type": "stream",
     "text": [
      "[1, 2, 3, 4, 5]\n",
      "4\n",
      "[]\n"
     ]
    }
   ],
   "source": [
    "a = [1, 2, 3, 4, 5]\n",
    "print(a)\n",
    "\n",
    "# 인덱스 3 (4번쨰 원소)\n",
    "print(a[3])\n",
    "\n",
    "# 빈 리스트 생성\n",
    "a = list()\n",
    "print(a)"
   ]
  },
  {
   "cell_type": "code",
   "execution_count": 18,
   "id": "7121de4e",
   "metadata": {
    "ExecuteTime": {
     "end_time": "2022-03-02T10:39:08.882064Z",
     "start_time": "2022-03-02T10:39:08.864112Z"
    }
   },
   "outputs": [
    {
     "name": "stdout",
     "output_type": "stream",
     "text": [
      "[0, 0, 0, 0, 0, 0, 0, 0]\n"
     ]
    }
   ],
   "source": [
    "## 크기가 N 이고 모두 값이 0인 리스트 (코딩테스트때 자주사용)\n",
    "\n",
    "n=8\n",
    "a = [0] * n\n",
    "print(a)"
   ]
  },
  {
   "cell_type": "markdown",
   "id": "733c5437",
   "metadata": {},
   "source": [
    "### 리스트 인덱싱과 슬라이싱"
   ]
  },
  {
   "cell_type": "code",
   "execution_count": 21,
   "id": "56c4407e",
   "metadata": {
    "ExecuteTime": {
     "end_time": "2022-03-02T11:19:30.558070Z",
     "start_time": "2022-03-02T11:19:30.549120Z"
    }
   },
   "outputs": [
    {
     "name": "stdout",
     "output_type": "stream",
     "text": [
      "10\n",
      "8\n",
      "4\n",
      "[2, 3, 4]\n",
      "[8, 9]\n"
     ]
    }
   ],
   "source": [
    "a = [1, 2, 3, 4, 5, 6, 7, 8, 9, 10]\n",
    "\n",
    "# 맨뒤 인덱스\n",
    "print(a[-1])\n",
    "\n",
    "# 뒤에서 3번째 인덱스\n",
    "print(a[-3])\n",
    "\n",
    "# 네번째 원소\n",
    "print(a[3])\n",
    "\n",
    "\n",
    "# 슬라이싱\n",
    "\n",
    "print(a[1:4])\n",
    "\n",
    "print(a[-3:-1])"
   ]
  },
  {
   "cell_type": "markdown",
   "id": "50aab203",
   "metadata": {},
   "source": [
    "### 리스트 컴프리헨션"
   ]
  },
  {
   "cell_type": "code",
   "execution_count": 32,
   "id": "8b42ea9e",
   "metadata": {
    "ExecuteTime": {
     "end_time": "2022-03-02T11:25:02.629818Z",
     "start_time": "2022-03-02T11:25:02.610864Z"
    }
   },
   "outputs": [
    {
     "name": "stdout",
     "output_type": "stream",
     "text": [
      "[1, 3, 5, 7, 9, 11, 13, 15, 17, 19]\n",
      "['_', 1, '_', 3, '_', 5, '_', 7, '_', 9, '_', 11, '_', 13, '_', 15, '_', 17, '_', 19]\n"
     ]
    }
   ],
   "source": [
    "array1 = [i for i in range(20) if i % 2 == 1]\n",
    "print(array1)\n",
    "\n",
    "array2 = [i if i % 2 == 1 else '_' for i in range(20)]\n",
    "print(array2)"
   ]
  },
  {
   "cell_type": "code",
   "execution_count": 34,
   "id": "badbc334",
   "metadata": {
    "ExecuteTime": {
     "end_time": "2022-03-02T11:27:17.486932Z",
     "start_time": "2022-03-02T11:27:17.480949Z"
    }
   },
   "outputs": [
    {
     "name": "stdout",
     "output_type": "stream",
     "text": [
      "[[0, 0, 0, 0, 0], [0, 0, 0, 0, 0], [0, 0, 0, 0, 0], [0, 0, 0, 0, 0]]\n"
     ]
    }
   ],
   "source": [
    "## N X M 행렬 초기화\n",
    "m = 5\n",
    "n = 4\n",
    "matrix1 = [[0]*m for _ in range(n)]\n",
    "print(matrix1)"
   ]
  },
  {
   "cell_type": "code",
   "execution_count": 37,
   "id": "91cc9a32",
   "metadata": {
    "ExecuteTime": {
     "end_time": "2022-03-02T11:27:45.692829Z",
     "start_time": "2022-03-02T11:27:45.681860Z"
    }
   },
   "outputs": [
    {
     "data": {
      "text/plain": [
       "[[0, 0, 4, 0, 0], [0, 0, 0, 0, 0], [0, 0, 0, 0, 0], [0, 0, 0, 0, 0]]"
      ]
     },
     "execution_count": 37,
     "metadata": {},
     "output_type": "execute_result"
    }
   ],
   "source": [
    "matrix1[0][2] = 4\n",
    "matrix1"
   ]
  },
  {
   "cell_type": "markdown",
   "id": "0b29988f",
   "metadata": {},
   "source": [
    "### 리스트 관련 메서드\n",
    "    - append()\n",
    "    - sort(reverse=False)\n",
    "    - reverse()\n",
    "    - insert(삽입할 위치 인덱스, 삽입할 값)\n",
    "    - count(특정값)\n",
    "    - remove(특정값)"
   ]
  },
  {
   "cell_type": "code",
   "execution_count": 55,
   "id": "4fb2718b",
   "metadata": {
    "ExecuteTime": {
     "end_time": "2022-03-02T11:34:02.963384Z",
     "start_time": "2022-03-02T11:34:02.950418Z"
    }
   },
   "outputs": [
    {
     "name": "stdout",
     "output_type": "stream",
     "text": [
      "기본 리스트:  [1, 2, 3, 4]\n",
      "append:  [1, 2, 3, 4, 15]\n",
      "[15, 4, 3, 2, 1]\n",
      "[1, 2, 3, 4, 15]\n",
      "[1, 111, 2, 3, 111, 4, 15]\n",
      "2\n",
      "[1, 2, 3, 111, 4, 15]\n"
     ]
    }
   ],
   "source": [
    "a = [1, 2, 3, 4]\n",
    "print('기본 리스트: ', a)\n",
    "\n",
    "# 리스트에 원소 삽입\n",
    "a.append(15)\n",
    "print('append: ', a)\n",
    "\n",
    "\n",
    "# 내림차순 정렬\n",
    "a.sort(reverse=True, )\n",
    "print(a)\n",
    "\n",
    "# 역순 변환\n",
    "a.reverse()\n",
    "print(a)\n",
    "\n",
    "# 특정 인덱스 삽입\n",
    "a.insert(1, 111)\n",
    "a.insert(4, 111)\n",
    "\n",
    "print(a)\n",
    "\n",
    "\n",
    "# 특정 값인 데이터 세기\n",
    "\n",
    "print(a.count(111))\n",
    "\n",
    "a.remove(111) # 첫번째 것만 삭제\n",
    "print(a)"
   ]
  },
  {
   "cell_type": "markdown",
   "id": "21742ca9",
   "metadata": {},
   "source": [
    "## 문자열 자료형"
   ]
  },
  {
   "cell_type": "markdown",
   "id": "459fc79b",
   "metadata": {},
   "source": [
    "### 문자열 초기화"
   ]
  },
  {
   "cell_type": "code",
   "execution_count": 59,
   "id": "25c64092",
   "metadata": {
    "ExecuteTime": {
     "end_time": "2022-03-02T11:36:40.364008Z",
     "start_time": "2022-03-02T11:36:40.351048Z"
    }
   },
   "outputs": [
    {
     "name": "stdout",
     "output_type": "stream",
     "text": [
      "hello world!\n",
      "Don't you know 'Python'?\n"
     ]
    }
   ],
   "source": [
    "data = 'hello world!'\n",
    "print(data)\n",
    "\n",
    "data = 'Don\\'t you know \\'Python\\'?'\n",
    "print(data)"
   ]
  },
  {
   "cell_type": "markdown",
   "id": "56f2a0a0",
   "metadata": {},
   "source": [
    "### 문자열 연산"
   ]
  },
  {
   "cell_type": "code",
   "execution_count": 66,
   "id": "aa27a6a9",
   "metadata": {
    "ExecuteTime": {
     "end_time": "2022-03-02T11:37:31.894077Z",
     "start_time": "2022-03-02T11:37:31.890088Z"
    }
   },
   "outputs": [
    {
     "name": "stdout",
     "output_type": "stream",
     "text": [
      "coding test\n"
     ]
    }
   ],
   "source": [
    "a = 'coding'\n",
    "b = 'test'\n",
    "print(a + ' '+ b)"
   ]
  },
  {
   "cell_type": "code",
   "execution_count": 67,
   "id": "11608278",
   "metadata": {
    "ExecuteTime": {
     "end_time": "2022-03-02T11:37:44.479705Z",
     "start_time": "2022-03-02T11:37:44.466748Z"
    }
   },
   "outputs": [
    {
     "name": "stdout",
     "output_type": "stream",
     "text": [
      "StringStringString\n"
     ]
    }
   ],
   "source": [
    "a = 'String'\n",
    "print( a * 3)"
   ]
  },
  {
   "cell_type": "code",
   "execution_count": 68,
   "id": "6aaa840e",
   "metadata": {
    "ExecuteTime": {
     "end_time": "2022-03-02T11:38:01.305073Z",
     "start_time": "2022-03-02T11:38:01.290079Z"
    }
   },
   "outputs": [
    {
     "name": "stdout",
     "output_type": "stream",
     "text": [
      "bcdef\n"
     ]
    }
   ],
   "source": [
    "a = 'abcdefg'\n",
    "print(a[1:-1])"
   ]
  },
  {
   "cell_type": "markdown",
   "id": "a2d255dc",
   "metadata": {},
   "source": [
    "## 튜플 자료형\n",
    "\n",
    "    - 한 번 선언된 값을 변경할 수 없다.\n",
    "    - 리스트는 대괄호([])를 이용하지만, 튜플은 소괄호(())를 이용한다."
   ]
  },
  {
   "cell_type": "code",
   "execution_count": 69,
   "id": "215a671f",
   "metadata": {
    "ExecuteTime": {
     "end_time": "2022-03-02T11:42:07.174930Z",
     "start_time": "2022-03-02T11:42:07.160968Z"
    }
   },
   "outputs": [
    {
     "name": "stdout",
     "output_type": "stream",
     "text": [
      "(1, 2, 3, 4)\n"
     ]
    }
   ],
   "source": [
    "a = (1, 2, 3, 4)\n",
    "print(a)\n"
   ]
  },
  {
   "cell_type": "code",
   "execution_count": 70,
   "id": "e32406ec",
   "metadata": {
    "ExecuteTime": {
     "end_time": "2022-03-02T11:42:11.399213Z",
     "start_time": "2022-03-02T11:42:11.390270Z"
    }
   },
   "outputs": [
    {
     "ename": "TypeError",
     "evalue": "'tuple' object does not support item assignment",
     "output_type": "error",
     "traceback": [
      "\u001b[1;31m---------------------------------------------------------------------------\u001b[0m",
      "\u001b[1;31mTypeError\u001b[0m                                 Traceback (most recent call last)",
      "\u001b[1;32m~\\AppData\\Local\\Temp/ipykernel_68492/2675121395.py\u001b[0m in \u001b[0;36m<module>\u001b[1;34m\u001b[0m\n\u001b[1;32m----> 1\u001b[1;33m \u001b[0ma\u001b[0m\u001b[1;33m[\u001b[0m\u001b[1;36m2\u001b[0m\u001b[1;33m]\u001b[0m \u001b[1;33m=\u001b[0m \u001b[1;36m11\u001b[0m\u001b[1;33m\u001b[0m\u001b[1;33m\u001b[0m\u001b[0m\n\u001b[0m",
      "\u001b[1;31mTypeError\u001b[0m: 'tuple' object does not support item assignment"
     ]
    }
   ],
   "source": [
    "a[2] = 11 ## 에러"
   ]
  },
  {
   "cell_type": "markdown",
   "id": "c7563155",
   "metadata": {},
   "source": [
    "## 사전 자료형"
   ]
  },
  {
   "cell_type": "code",
   "execution_count": 71,
   "id": "a3694726",
   "metadata": {
    "ExecuteTime": {
     "end_time": "2022-03-02T11:44:33.453651Z",
     "start_time": "2022-03-02T11:44:33.443716Z"
    }
   },
   "outputs": [
    {
     "name": "stdout",
     "output_type": "stream",
     "text": [
      "{'사과': 'Apple', '바나나': 'Banana', '코코넛': 'Coconut'}\n"
     ]
    }
   ],
   "source": [
    "data = dict()\n",
    "data['사과'] = 'Apple'\n",
    "data['바나나'] = 'Banana'\n",
    "data['코코넛'] = 'Coconut'\n",
    "\n",
    "print(data)"
   ]
  },
  {
   "cell_type": "code",
   "execution_count": 72,
   "id": "0561fdb4",
   "metadata": {
    "ExecuteTime": {
     "end_time": "2022-03-02T11:45:29.230922Z",
     "start_time": "2022-03-02T11:45:29.216961Z"
    }
   },
   "outputs": [
    {
     "name": "stdout",
     "output_type": "stream",
     "text": [
      "사과를 키로 가지는 데이터가 존재합니다.\n"
     ]
    }
   ],
   "source": [
    "if '사과' in data:\n",
    "    print('사과를 키로 가지는 데이터가 존재합니다.')"
   ]
  },
  {
   "cell_type": "markdown",
   "id": "b127f788",
   "metadata": {},
   "source": [
    "### 사전 자료형 관련 함수"
   ]
  },
  {
   "cell_type": "code",
   "execution_count": 75,
   "id": "3ac0964d",
   "metadata": {
    "ExecuteTime": {
     "end_time": "2022-03-02T12:08:32.449615Z",
     "start_time": "2022-03-02T12:08:32.436579Z"
    }
   },
   "outputs": [
    {
     "name": "stdout",
     "output_type": "stream",
     "text": [
      "<class 'dict'>\n",
      "dict_keys(['사과', '바나나', '코코넛'])\n",
      "dict_values(['Apple', 'Banana', 'Coconut'])\n",
      "Apple\n",
      "Banana\n",
      "Coconut\n"
     ]
    }
   ],
   "source": [
    "data = {}\n",
    "\n",
    "data['사과']='Apple'\n",
    "data['바나나'] = 'Banana'\n",
    "data['코코넛'] = 'Coconut'\n",
    "\n",
    "# 키 데이터만 담은 리스트\n",
    "key_list = data.keys()\n",
    "\n",
    "# 값 데이터만 담은 리스트\n",
    "value_list = data.values()\n",
    "print(key_list)\n",
    "print(value_list)\n",
    "\n",
    "\n",
    "for key in key_list:\n",
    "    print(data[key])"
   ]
  },
  {
   "cell_type": "markdown",
   "id": "0f633010",
   "metadata": {},
   "source": [
    "## 집합 자료형\n",
    "\n",
    "    - 중복 허용 X\n",
    "    - 순서없음"
   ]
  },
  {
   "cell_type": "code",
   "execution_count": 78,
   "id": "124efefd",
   "metadata": {
    "ExecuteTime": {
     "end_time": "2022-03-02T12:09:22.619207Z",
     "start_time": "2022-03-02T12:09:22.611218Z"
    }
   },
   "outputs": [
    {
     "name": "stdout",
     "output_type": "stream",
     "text": [
      "{1, 2, 3, 4}\n",
      "{1, 2, 3, 4, 5}\n"
     ]
    }
   ],
   "source": [
    "data = set([1, 1, 2, 2, 3,3, 3, 4, 4])\n",
    "print(data)\n",
    "\n",
    "data = {1, 1, 2, 3, 4, 4,5}\n",
    "print(data)"
   ]
  },
  {
   "cell_type": "code",
   "execution_count": 79,
   "id": "b516e2ab",
   "metadata": {
    "ExecuteTime": {
     "end_time": "2022-03-02T12:10:05.942925Z",
     "start_time": "2022-03-02T12:10:05.921980Z"
    }
   },
   "outputs": [
    {
     "name": "stdout",
     "output_type": "stream",
     "text": [
      "{1, 2, 3, 4, 5, 6, 7}\n",
      "{3, 4, 5}\n",
      "{1, 2}\n"
     ]
    }
   ],
   "source": [
    "a = set([1, 2, 3, 4, 5])\n",
    "b = set([3, 4, 5, 6, 7])\n",
    "\n",
    "print(a | b) # 합집합\n",
    "print(a & b) # 교집합\n",
    "print(a - b) # 차집합"
   ]
  },
  {
   "cell_type": "code",
   "execution_count": 87,
   "id": "fe839c43",
   "metadata": {
    "ExecuteTime": {
     "end_time": "2022-03-02T12:12:08.504033Z",
     "start_time": "2022-03-02T12:12:08.485128Z"
    }
   },
   "outputs": [
    {
     "name": "stdout",
     "output_type": "stream",
     "text": [
      "{1, 2, 3}\n",
      "{1, 2, 3, 4}\n",
      "{1, 2, 3, 4, 5, 6, 7}\n",
      "{1, 2, 3, 4, 6, 7}\n"
     ]
    }
   ],
   "source": [
    "data = set([1, 2, 3])\n",
    "print(data)\n",
    "\n",
    "# 새로운 원소 추가\n",
    "data.add(4)\n",
    "print(data)\n",
    "\n",
    "# 새로운 원소 여러 개 추가\n",
    "data.update([5, 6, 7])\n",
    "print(data)\n",
    "\n",
    "# 특정한 값을 갖는 원소 삭제\n",
    "data.remove(5)\n",
    "print(data)"
   ]
  },
  {
   "cell_type": "markdown",
   "id": "9d15af14",
   "metadata": {},
   "source": [
    "# 조건문"
   ]
  },
  {
   "cell_type": "code",
   "execution_count": 88,
   "id": "7a136828",
   "metadata": {
    "ExecuteTime": {
     "end_time": "2022-03-02T13:06:00.691062Z",
     "start_time": "2022-03-02T13:06:00.674106Z"
    }
   },
   "outputs": [
    {
     "name": "stdout",
     "output_type": "stream",
     "text": [
      "15\n"
     ]
    }
   ],
   "source": [
    "x = 15\n",
    "\n",
    "if x >= 10:\n",
    "    print(x)"
   ]
  },
  {
   "cell_type": "code",
   "execution_count": 105,
   "id": "3538d42b",
   "metadata": {
    "ExecuteTime": {
     "end_time": "2022-03-02T13:12:57.540998Z",
     "start_time": "2022-03-02T13:12:57.532023Z"
    }
   },
   "outputs": [
    {
     "name": "stdout",
     "output_type": "stream",
     "text": [
      "학점 : F\n",
      "학점 : A\n",
      "학점 : F\n",
      "학점 : B\n"
     ]
    },
    {
     "data": {
      "text/plain": [
       "0    None\n",
       "1    None\n",
       "2    None\n",
       "3    None\n",
       "dtype: object"
      ]
     },
     "execution_count": 105,
     "metadata": {},
     "output_type": "execute_result"
    }
   ],
   "source": [
    "def score_cal(score):\n",
    "    if score >= 90:\n",
    "        print('학점 : A')\n",
    "\n",
    "    elif score >= 80:\n",
    "        print('학점 : B')\n",
    "\n",
    "    elif score >= 70:\n",
    "        print('학점 : C')\n",
    "    else:\n",
    "        print('학점 : F')\n",
    "    \n",
    "\n",
    "scores= [10,90 ,50, 84]\n",
    "\n",
    "import pandas as pd\n",
    "scores = pd.Series(scores)\n",
    "scores.apply(score_cal)\n"
   ]
  },
  {
   "cell_type": "code",
   "execution_count": 106,
   "id": "c37731ac",
   "metadata": {
    "ExecuteTime": {
     "end_time": "2022-03-02T13:12:59.875395Z",
     "start_time": "2022-03-02T13:12:59.858249Z"
    }
   },
   "outputs": [
    {
     "name": "stdout",
     "output_type": "stream",
     "text": [
      "학점 : F\n",
      "학점 : A\n",
      "학점 : F\n",
      "학점 : B\n"
     ]
    },
    {
     "data": {
      "text/plain": [
       "[None, None, None, None]"
      ]
     },
     "execution_count": 106,
     "metadata": {},
     "output_type": "execute_result"
    }
   ],
   "source": [
    "list(map(score_cal, scores))"
   ]
  },
  {
   "cell_type": "code",
   "execution_count": 108,
   "id": "f7d52a08",
   "metadata": {
    "ExecuteTime": {
     "end_time": "2022-03-02T13:17:25.013890Z",
     "start_time": "2022-03-02T13:17:25.004917Z"
    }
   },
   "outputs": [
    {
     "name": "stdout",
     "output_type": "stream",
     "text": [
      "[1, 2, 4, 5]\n"
     ]
    }
   ],
   "source": [
    "a = [1, 2, 3, 4, 5, 6, 6, 6]\n",
    "remove_set = [3,6]\n",
    "\n",
    "result = []\n",
    "for i in a:\n",
    "    if i not in remove_set:\n",
    "        result.append(i)\n",
    "        \n",
    "print(result)\n"
   ]
  },
  {
   "cell_type": "markdown",
   "id": "e0562d1b",
   "metadata": {},
   "source": [
    "# 반복문"
   ]
  },
  {
   "cell_type": "markdown",
   "id": "a199d188",
   "metadata": {},
   "source": [
    "## while문"
   ]
  },
  {
   "cell_type": "code",
   "execution_count": 112,
   "id": "73b2d60f",
   "metadata": {
    "ExecuteTime": {
     "end_time": "2022-03-02T13:18:46.247601Z",
     "start_time": "2022-03-02T13:18:46.232612Z"
    }
   },
   "outputs": [
    {
     "name": "stdout",
     "output_type": "stream",
     "text": [
      "55\n"
     ]
    }
   ],
   "source": [
    "i = 0\n",
    "result = 0\n",
    "\n",
    "while i <=10 :\n",
    "    result += i\n",
    "    i += 1\n",
    "    \n",
    "print(result)"
   ]
  },
  {
   "cell_type": "markdown",
   "id": "bf062a8f",
   "metadata": {},
   "source": [
    "## for문"
   ]
  },
  {
   "cell_type": "code",
   "execution_count": 113,
   "id": "f08b6102",
   "metadata": {
    "ExecuteTime": {
     "end_time": "2022-03-02T13:19:19.361570Z",
     "start_time": "2022-03-02T13:19:19.356554Z"
    }
   },
   "outputs": [
    {
     "name": "stdout",
     "output_type": "stream",
     "text": [
      "55\n"
     ]
    }
   ],
   "source": [
    "result = 0\n",
    "for i in range(1, 11):\n",
    "    result += i\n",
    "    \n",
    "print(result)"
   ]
  },
  {
   "cell_type": "code",
   "execution_count": 117,
   "id": "5b09c9f2",
   "metadata": {
    "ExecuteTime": {
     "end_time": "2022-03-02T13:21:09.170837Z",
     "start_time": "2022-03-02T13:21:09.152881Z"
    }
   },
   "outputs": [
    {
     "name": "stdout",
     "output_type": "stream",
     "text": [
      "1 반 학생은 합격입니다.\n",
      "3 반 학생은 합격입니다.\n"
     ]
    }
   ],
   "source": [
    "scores = [90, 65, 98, 92, 67]\n",
    "cheating_list = [2, 4]\n",
    "\n",
    "for i in range(len(scores)):\n",
    "    if i+1 in cheating_list:\n",
    "        continue\n",
    "    if scores[i] > 80:\n",
    "        print(i + 1, '반 학생은 합격입니다.')"
   ]
  },
  {
   "cell_type": "markdown",
   "id": "6fe91e9c",
   "metadata": {},
   "source": [
    "# 함수"
   ]
  },
  {
   "cell_type": "code",
   "execution_count": 123,
   "id": "8a1f8372",
   "metadata": {
    "ExecuteTime": {
     "end_time": "2022-03-02T13:22:59.933136Z",
     "start_time": "2022-03-02T13:22:59.916181Z"
    }
   },
   "outputs": [
    {
     "name": "stdout",
     "output_type": "stream",
     "text": [
      "7\n"
     ]
    }
   ],
   "source": [
    "def add(a, b):\n",
    "    return a+b\n",
    "\n",
    "print(add(3, 4))"
   ]
  },
  {
   "cell_type": "code",
   "execution_count": 124,
   "id": "1daeeacf",
   "metadata": {
    "ExecuteTime": {
     "end_time": "2022-03-02T13:23:51.547926Z",
     "start_time": "2022-03-02T13:23:51.532965Z"
    }
   },
   "outputs": [
    {
     "name": "stdout",
     "output_type": "stream",
     "text": [
      "11\n"
     ]
    }
   ],
   "source": [
    "a = 0\n",
    "\n",
    "def func():\n",
    "    global a # 전역변수\n",
    "    a += 1\n",
    "    \n",
    "for i in range(11):\n",
    "    func()\n",
    "    \n",
    "print(a)"
   ]
  },
  {
   "cell_type": "code",
   "execution_count": 127,
   "id": "006f45b8",
   "metadata": {
    "ExecuteTime": {
     "end_time": "2022-03-02T13:25:11.496325Z",
     "start_time": "2022-03-02T13:25:11.483362Z"
    }
   },
   "outputs": [
    {
     "data": {
      "text/plain": [
       "4"
      ]
     },
     "execution_count": 127,
     "metadata": {},
     "output_type": "execute_result"
    }
   ],
   "source": [
    "(lambda a, b: a+ b)(3, 1)"
   ]
  },
  {
   "cell_type": "markdown",
   "id": "03a1a9ee",
   "metadata": {},
   "source": [
    "# 입출력"
   ]
  },
  {
   "cell_type": "markdown",
   "id": "bb3f7dcc",
   "metadata": {},
   "source": [
    "## 입력을 위한 전형적인 소스코드"
   ]
  },
  {
   "cell_type": "code",
   "execution_count": 131,
   "id": "d9c9e8d2",
   "metadata": {
    "ExecuteTime": {
     "end_time": "2022-03-02T14:45:24.252007Z",
     "start_time": "2022-03-02T14:45:11.855341Z"
    }
   },
   "outputs": [
    {
     "name": "stdout",
     "output_type": "stream",
     "text": [
      "5\n",
      "1 22 3 4 44 5\n",
      "[44, 22, 5, 4, 3, 1]\n"
     ]
    }
   ],
   "source": [
    "# 데이터의 개수 입력\n",
    "n = int(input())\n",
    "\n",
    "# 각 데이터를 공백으로 구분하여 입력\n",
    "data = list(map(int, input().split(' ')))\n",
    "\n",
    "data.sort(reverse=True)\n",
    "print(data)\n"
   ]
  },
  {
   "cell_type": "markdown",
   "id": "2da4f897",
   "metadata": {},
   "source": [
    "## 공백을 기준으로 구분하여 적은 수의 데이터 입력"
   ]
  },
  {
   "cell_type": "code",
   "execution_count": 132,
   "id": "e5d5ad0d",
   "metadata": {
    "ExecuteTime": {
     "end_time": "2022-03-02T14:45:57.123577Z",
     "start_time": "2022-03-02T14:45:53.331547Z"
    }
   },
   "outputs": [
    {
     "name": "stdout",
     "output_type": "stream",
     "text": [
      "1 10 2\n",
      "1 10 2\n"
     ]
    }
   ],
   "source": [
    "n, m, k = map(int, input().split())\n",
    "\n",
    "print(n, m, k)"
   ]
  },
  {
   "cell_type": "code",
   "execution_count": 133,
   "id": "087b9442",
   "metadata": {
    "ExecuteTime": {
     "end_time": "2022-03-02T14:46:44.543539Z",
     "start_time": "2022-03-02T14:46:44.529577Z"
    }
   },
   "outputs": [
    {
     "data": {
      "text/plain": [
       "''"
      ]
     },
     "execution_count": 133,
     "metadata": {},
     "output_type": "execute_result"
    }
   ],
   "source": [
    "import sys\n",
    "\n",
    "sys.stdin.readline().rstrip()"
   ]
  },
  {
   "cell_type": "code",
   "execution_count": 134,
   "id": "6fb57bd0",
   "metadata": {
    "ExecuteTime": {
     "end_time": "2022-03-02T14:47:07.774799Z",
     "start_time": "2022-03-02T14:47:07.762830Z"
    }
   },
   "outputs": [
    {
     "name": "stdout",
     "output_type": "stream",
     "text": [
      "\n"
     ]
    }
   ],
   "source": [
    "data = sys.stdin.readline().rstrip()\n",
    "print(data)"
   ]
  },
  {
   "cell_type": "code",
   "execution_count": 137,
   "id": "26c30654",
   "metadata": {
    "ExecuteTime": {
     "end_time": "2022-03-02T14:47:50.485749Z",
     "start_time": "2022-03-02T14:47:50.470776Z"
    }
   },
   "outputs": [
    {
     "data": {
      "text/plain": [
       "''"
      ]
     },
     "execution_count": 137,
     "metadata": {},
     "output_type": "execute_result"
    }
   ],
   "source": [
    "sys.stdin.readline()"
   ]
  },
  {
   "cell_type": "markdown",
   "id": "b6192210",
   "metadata": {},
   "source": [
    "# 파이썬 내장함수"
   ]
  },
  {
   "cell_type": "code",
   "execution_count": 138,
   "id": "d85012a6",
   "metadata": {
    "ExecuteTime": {
     "end_time": "2022-03-02T14:52:04.940541Z",
     "start_time": "2022-03-02T14:52:04.922583Z"
    }
   },
   "outputs": [
    {
     "name": "stdout",
     "output_type": "stream",
     "text": [
      "16\n"
     ]
    }
   ],
   "source": [
    "result = eval('(3+5) * 2')\n",
    "print(result)"
   ]
  },
  {
   "cell_type": "code",
   "execution_count": 142,
   "id": "cd6d645c",
   "metadata": {
    "ExecuteTime": {
     "end_time": "2022-03-02T14:53:55.664144Z",
     "start_time": "2022-03-02T14:53:55.651167Z"
    }
   },
   "outputs": [
    {
     "name": "stdout",
     "output_type": "stream",
     "text": [
      "[('아무개', 50), ('이순신', 75), ('홍길동', 35)]\n",
      "[('홍길동', 35), ('아무개', 50), ('이순신', 75)]\n"
     ]
    }
   ],
   "source": [
    "result = sorted(([('홍길동', 35), ('이순신', 75), ('아무개', 50)]), key = lambda x : x[0])\n",
    "print(result)\n",
    "\n",
    "result = sorted(([('홍길동', 35), ('이순신', 75), ('아무개', 50)]), key = lambda x : x[1])\n",
    "print(result)"
   ]
  },
  {
   "cell_type": "markdown",
   "id": "e00a879e",
   "metadata": {},
   "source": [
    "# itertools"
   ]
  },
  {
   "cell_type": "code",
   "execution_count": 150,
   "id": "ecf3a3b8",
   "metadata": {
    "ExecuteTime": {
     "end_time": "2022-03-02T14:55:47.157354Z",
     "start_time": "2022-03-02T14:55:47.148353Z"
    }
   },
   "outputs": [
    {
     "name": "stdout",
     "output_type": "stream",
     "text": [
      "[('A', 'B', 'C'), ('A', 'C', 'B'), ('B', 'A', 'C'), ('B', 'C', 'A'), ('C', 'A', 'B'), ('C', 'B', 'A')]\n"
     ]
    }
   ],
   "source": [
    "from itertools import permutations # 순열\n",
    "\n",
    "data = ['A', 'B', 'C']\n",
    "result = list(permutations(data, 3)) # data 중 r개를 뽑아 일렬로 나열하는 모든 경우(순열) 계산\n",
    "print(result)"
   ]
  },
  {
   "cell_type": "code",
   "execution_count": 151,
   "id": "a4afb7c2",
   "metadata": {
    "ExecuteTime": {
     "end_time": "2022-03-02T14:55:52.123062Z",
     "start_time": "2022-03-02T14:55:52.114086Z"
    }
   },
   "outputs": [
    {
     "name": "stdout",
     "output_type": "stream",
     "text": [
      "[('A', 'B'), ('A', 'C'), ('B', 'A'), ('B', 'C'), ('C', 'A'), ('C', 'B')]\n"
     ]
    }
   ],
   "source": [
    "result = list(permutations(data, 2))\n",
    "print(result)"
   ]
  },
  {
   "cell_type": "code",
   "execution_count": 153,
   "id": "261401ff",
   "metadata": {
    "ExecuteTime": {
     "end_time": "2022-03-02T14:56:52.180648Z",
     "start_time": "2022-03-02T14:56:52.173711Z"
    }
   },
   "outputs": [
    {
     "name": "stdout",
     "output_type": "stream",
     "text": [
      "[('A', 'B'), ('A', 'C'), ('B', 'C')]\n"
     ]
    }
   ],
   "source": [
    "from itertools import combinations\n",
    "\n",
    "data = ['A', 'B', 'C'] # 데이터 준비\n",
    "result = list(combinations(data, 2)) # 2개를 뽑는 모든 조합 구하기\n",
    "print(result)"
   ]
  },
  {
   "cell_type": "code",
   "execution_count": 154,
   "id": "e6c80850",
   "metadata": {
    "ExecuteTime": {
     "end_time": "2022-03-02T14:57:09.858499Z",
     "start_time": "2022-03-02T14:57:09.844537Z"
    }
   },
   "outputs": [
    {
     "name": "stdout",
     "output_type": "stream",
     "text": [
      "[('A', 'B', 'C')]\n"
     ]
    }
   ],
   "source": [
    "result = list(combinations(data, 3))\n",
    "print(result)"
   ]
  },
  {
   "cell_type": "code",
   "execution_count": 155,
   "id": "a2a70183",
   "metadata": {
    "ExecuteTime": {
     "end_time": "2022-03-02T14:58:11.550220Z",
     "start_time": "2022-03-02T14:58:11.541244Z"
    }
   },
   "outputs": [
    {
     "name": "stdout",
     "output_type": "stream",
     "text": [
      "[('A', 'A'), ('A', 'B'), ('A', 'C'), ('B', 'A'), ('B', 'B'), ('B', 'C'), ('C', 'A'), ('C', 'B'), ('C', 'C')]\n"
     ]
    }
   ],
   "source": [
    "from itertools import product # 순열 + 원소 중복 허용\n",
    "\n",
    "data = ['A', 'B', 'C']\n",
    "result = list(product(data, repeat=2))  # 2개를 뽑는 모든 순열 구하기\n",
    "print(result)"
   ]
  },
  {
   "cell_type": "code",
   "execution_count": 156,
   "id": "d33b5c17",
   "metadata": {
    "ExecuteTime": {
     "end_time": "2022-03-02T14:58:34.306094Z",
     "start_time": "2022-03-02T14:58:34.295093Z"
    }
   },
   "outputs": [
    {
     "name": "stdout",
     "output_type": "stream",
     "text": [
      "[('A', 'A', 'A'), ('A', 'A', 'B'), ('A', 'A', 'C'), ('A', 'B', 'A'), ('A', 'B', 'B'), ('A', 'B', 'C'), ('A', 'C', 'A'), ('A', 'C', 'B'), ('A', 'C', 'C'), ('B', 'A', 'A'), ('B', 'A', 'B'), ('B', 'A', 'C'), ('B', 'B', 'A'), ('B', 'B', 'B'), ('B', 'B', 'C'), ('B', 'C', 'A'), ('B', 'C', 'B'), ('B', 'C', 'C'), ('C', 'A', 'A'), ('C', 'A', 'B'), ('C', 'A', 'C'), ('C', 'B', 'A'), ('C', 'B', 'B'), ('C', 'B', 'C'), ('C', 'C', 'A'), ('C', 'C', 'B'), ('C', 'C', 'C')]\n"
     ]
    }
   ],
   "source": [
    "data = ['A', 'B', 'C']\n",
    "result = list(product(data, repeat=3))  # 3개를 뽑는 모든 순열 구하기\n",
    "print(result)"
   ]
  },
  {
   "cell_type": "code",
   "execution_count": 157,
   "id": "e0460b91",
   "metadata": {
    "ExecuteTime": {
     "end_time": "2022-03-02T14:59:11.391269Z",
     "start_time": "2022-03-02T14:59:11.377306Z"
    }
   },
   "outputs": [
    {
     "name": "stdout",
     "output_type": "stream",
     "text": [
      "[('A', 'A'), ('A', 'B'), ('A', 'C'), ('B', 'B'), ('B', 'C'), ('C', 'C')]\n"
     ]
    }
   ],
   "source": [
    "from itertools import combinations_with_replacement # 조합 + 중복 허용\n",
    "\n",
    "data =['A', 'B', \"C\"]\n",
    "result = list(combinations_with_replacement(data, 2))\n",
    "print(result)"
   ]
  }
 ],
 "metadata": {
  "hide_input": false,
  "kernelspec": {
   "display_name": "Python 3 (ipykernel)",
   "language": "python",
   "name": "python3"
  },
  "language_info": {
   "codemirror_mode": {
    "name": "ipython",
    "version": 3
   },
   "file_extension": ".py",
   "mimetype": "text/x-python",
   "name": "python",
   "nbconvert_exporter": "python",
   "pygments_lexer": "ipython3",
   "version": "3.7.3"
  },
  "toc": {
   "base_numbering": 1,
   "nav_menu": {},
   "number_sections": true,
   "sideBar": true,
   "skip_h1_title": false,
   "title_cell": "Table of Contents",
   "title_sidebar": "Contents",
   "toc_cell": false,
   "toc_position": {},
   "toc_section_display": true,
   "toc_window_display": false
  },
  "varInspector": {
   "cols": {
    "lenName": 16,
    "lenType": 16,
    "lenVar": 40
   },
   "kernels_config": {
    "python": {
     "delete_cmd_postfix": "",
     "delete_cmd_prefix": "del ",
     "library": "var_list.py",
     "varRefreshCmd": "print(var_dic_list())"
    },
    "r": {
     "delete_cmd_postfix": ") ",
     "delete_cmd_prefix": "rm(",
     "library": "var_list.r",
     "varRefreshCmd": "cat(var_dic_list()) "
    }
   },
   "types_to_exclude": [
    "module",
    "function",
    "builtin_function_or_method",
    "instance",
    "_Feature"
   ],
   "window_display": false
  }
 },
 "nbformat": 4,
 "nbformat_minor": 5
}
